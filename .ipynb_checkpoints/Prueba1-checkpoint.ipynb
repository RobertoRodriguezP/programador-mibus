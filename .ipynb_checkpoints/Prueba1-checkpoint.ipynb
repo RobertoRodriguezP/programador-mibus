{
 "cells": [
  {
   "cell_type": "code",
   "execution_count": 1,
   "metadata": {},
   "outputs": [],
   "source": [
    "from os import path\n",
    "import sqlite3 as sql\n",
    "import pandas as pd\n"
   ]
  },
  {
   "cell_type": "code",
   "execution_count": 2,
   "metadata": {},
   "outputs": [],
   "source": [
    "#Funcion para crear la Base de datos\n",
    "def sql_connection(x):\n",
    "    try:                                                 #intentara crear la base de datos\n",
    "        con=sql.connect(x)     #la creara la conexion\n",
    "        Rutas.to_sql('Rutas',con,index=False,if_exists = 'replace')#Transforma el archivo csv en Base de datos\n",
    "        print(\"Base de Datos estan Creadas\")             #Imprime si esta lista\n",
    "    except Exception as e:                                        #de existir marcara error\n",
    "        print(\"La Base de Datos no fue creada debido a: \"+e)\n",
    "    finally:                                             #simplemente cerrara una vez salga\n",
    "        con.close()\n"
   ]
  },
  {
   "cell_type": "code",
   "execution_count": 3,
   "metadata": {},
   "outputs": [],
   "source": [
    "#Creacion de la vista\n",
    "def Vista1(x):\n",
    "    con=sql.connect(x)  \n",
    "    cursor = con.cursor()\n",
    "    cursor.execute(\"\"\"CREATE VIEW IF NOT EXISTS TramosParadas \n",
    "                          AS\n",
    "                            SELECT\n",
    "                                r.RT_ID,\n",
    "                                Min(r.SN) as SN_B,\n",
    "                                r.STOP_CD as STOP_CD_B,\n",
    "                                MAX(t1.SN) as SN_E,\n",
    "                                t1.STOP_CD as STOP_CD_E,\n",
    "                                t1.DIST,\n",
    "                                t1.LMT_SPD\n",
    "                                FROM Rutas r \n",
    "                                LEFT JOIN Rutas t1 ON r.RT_ID = t1.RT_ID\n",
    "                         GROUP BY r.RT_ID;\n",
    "                         \"\"\")\n",
    "    con.commit()\n",
    "    print(\"Vista 1 Creada y Guardada en la base de datos\")"
   ]
  },
  {
   "cell_type": "code",
   "execution_count": 21,
   "metadata": {},
   "outputs": [
    {
     "name": "stdout",
     "output_type": "stream",
     "text": [
      "            RT_ID  SN_B STOP_CD_B  SN_E STOP_CD_E    DIST  LMT_SPD\n",
      "37497       12OMA     1   ESTAMAJ   2.0   MERMACA   558.0     60.0\n",
      "37498       12OMA     2   MERMACA   3.0   C12CH3A   746.0     40.0\n",
      "37499       12OMA     3   C12CH3A   4.0   CAHCH4A   945.0     30.0\n",
      "37500       12OMA     4   CAHCH4A   5.0   EJMCH3A  1195.0     30.0\n",
      "37501       12OMA     5   EJMCH3A   6.0   PAQSANA  1422.0     30.0\n",
      "...           ...   ...       ...   ...       ...     ...      ...\n",
      "37491  VVVVEM-NA1     4   PERVE3A   5.0   IGLDB3A  1719.0     60.0\n",
      "37492  VVVVEM-NA1     5   IGLDB3A   6.0   PCACE3A  2007.0     60.0\n",
      "37493  VVVVEM-NA1     6   PCACE3A   7.0   POLCE3A  2465.0     40.0\n",
      "37494  VVVVEM-NA1     7   POLCE3A   8.0   ERVCE3A  2789.0     30.0\n",
      "37495  VVVVEM-NA1     8   ERVCE3A   9.0   ESTAMAA  3142.0     40.0\n",
      "\n",
      "[59928 rows x 7 columns]\n"
     ]
    }
   ],
   "source": [
    "\n",
    "#1-Lectura de los CSV Raw o crudos\n",
    "filerutas=\"./Data/pattern_detail.csv\"                             #filepath para la Conexion con el archivo Crudo\n",
    "pathDB=\"./DBSQL/pattern_detail.db\"\n",
    "Rutas = pd.read_csv(filerutas,encoding = \"ISO-8859-1\")           #Lector de Archivo Crudo (Ruta,Codificacion) Cod= necesaria para transformar los datos\n",
    "Rutas.dropna()\n",
    "#ordenar los elementos importantes\n",
    "Rutas = Rutas.sort_values(by=['RT_ID', 'SN'], ascending=True)\n",
    "\n",
    "#crear los datasframe\n",
    "Rutas1=pd.DataFrame()\n",
    "#crear el dataframe\n",
    "Rutas1[\"RT_ID\"]=Rutas[\"RT_ID\"]\n",
    "Rutas1[\"SN_B\"]=Rutas[\"SN\"]\n",
    "Rutas1[\"STOP_CD_B\"]=Rutas[\"STOP_CD\"]\n",
    "Rutas1[\"SN_E\"]=Rutas.SN.shift(-1).fillna(0)\n",
    "Rutas1[\"STOP_CD_E\"]=Rutas.STOP_CD.shift(-1).fillna(0)\n",
    "Rutas1[\"DIST\"]=Rutas.DIST.shift(-1).fillna(0)\n",
    "Rutas1[\"LMT_SPD\"]=Rutas.LMT_SPD.shift(-1).fillna(0)\n",
    "#eliminando las rutas mezcladas\n",
    "Rutas1 = Rutas1[Rutas1.DIST != 0]"
   ]
  },
  {
   "cell_type": "code",
   "execution_count": null,
   "metadata": {},
   "outputs": [],
   "source": [
    "#2 - Creacion de Base de Datos \n",
    "sql_connection(pathDB,Rutas1)                                                #Creacion de Base de datos, valida si existe o no existe\n",
    "Vista1(pathDB)                                                       #Creacion de vista"
   ]
  },
  {
   "cell_type": "code",
   "execution_count": 6,
   "metadata": {},
   "outputs": [],
   "source": [
    "\"\"\" Transformacion de SQLITE a DataFrame a CSV  \"\"\"\n",
    "\n",
    "#6 Transfromacion de Archivos CSV\n",
    "con=sql.connect(pathDB)  \n",
    "RutasTramos = pd.read_sql_query(\"SELECT * FROM TramosParadas;\",con) #Transforma La vista en un Dataframe\n",
    "RutasTramos.to_csv(\"./Problema_1/Paradas.csv\",index=False)    #Coloca el Archivo CSV en la ruta selecionada sin la indexacion"
   ]
  },
  {
   "cell_type": "code",
   "execution_count": null,
   "metadata": {},
   "outputs": [],
   "source": []
  }
 ],
 "metadata": {
  "kernelspec": {
   "display_name": "Python 3",
   "language": "python",
   "name": "python3"
  },
  "language_info": {
   "codemirror_mode": {
    "name": "ipython",
    "version": 3
   },
   "file_extension": ".py",
   "mimetype": "text/x-python",
   "name": "python",
   "nbconvert_exporter": "python",
   "pygments_lexer": "ipython3",
   "version": "3.8.3"
  }
 },
 "nbformat": 4,
 "nbformat_minor": 4
}
