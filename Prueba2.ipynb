{
 "cells": [
  {
   "cell_type": "code",
   "execution_count": 1,
   "metadata": {},
   "outputs": [],
   "source": [
    "from os import path\n",
    "import sqlite3 as sql\n",
    "import pandas as pd\n",
    "import datetime as datetime"
   ]
  },
  {
   "cell_type": "code",
   "execution_count": 2,
   "metadata": {},
   "outputs": [],
   "source": [
    "#Funcion para crear la Base de datos\n",
    "def sql_connection(x,y,z):\n",
    "    try:                                                 #intentara crear la base de datos\n",
    "        con=sql.connect(x)                               #la creara la conexion\n",
    "        cursor = con.cursor()\n",
    "        cursor.execute(\"\"\"CREATE TABLE IF NOT EXISTS \"Transacciones\" (\n",
    "        \"Fecha Transaccion\" TEXT NOT NULL,\n",
    "        \"Bus\" INTEGER NOT NULL,\n",
    "        \"Validador\" INTEGER NOT NULL,\n",
    "        \"Tarjeta\" INTEGER NOT NULL,\n",
    "        \"Tarifa-Monto\" REAL NOT NULL,\n",
    "        \"C.Tipo Transaccion\" INTEGER NOT NULL,\n",
    "        \"Fecha RegistroCle\" TEXT NOT NULL,\n",
    "        \"Codigo Transaccion\" INTEGER NOT NULL,\n",
    "        \"Fecha Contabilizacion\" TEXT NOT NULL\n",
    "        );\"\"\")\n",
    "        con.commit()\n",
    "        for i,row in y.iterrows():\n",
    "            cursor.execute(\"\"\"INSERT INTO Transacciones\n",
    "            (\"Fecha Transaccion\",\n",
    "            \"Bus\",\n",
    "            \"Validador\",\n",
    "            \"Tarjeta\",\n",
    "            \"Fecha RegistroCle\",\n",
    "            \"Tarifa-Monto\",\n",
    "            \"C.Tipo Transaccion\",\n",
    "            \"Codigo Transaccion\",\n",
    "            \"Fecha Contabilizacion\") \n",
    "            VALUES( '\"\"\"+str(row['Fecha Transaccion'])+\"',\"\n",
    "                       +str(row['Bus'])+\",\"\n",
    "                       +str(row['Validador'])+\",\"\n",
    "                       +str(row['Tarjeta'])+\",'\"\n",
    "                       +str(row['Fecha RegistroCle'])+\"',\"\n",
    "                       +str(row['Tarifa-Monto'])+\",'\"\n",
    "                       +str(row['C.Tipo Transaccion'])+\"',\"\n",
    "                       +str(row['Codigo Transaccion'])+\",'\"\n",
    "                       +str(row['Fecha Contabilizacion'])+\"');\")\n",
    "            con.commit()\n",
    "            \n",
    "        Rutas.to_sql('Rutas',con,index=False,if_exists = 'replace')#Transforma el archivo csv en Base de datos alternativa no valida\n",
    "        print(\"Base de Datos Creada\")             #Imprime si esta lista\n",
    "    except Exception as e:                                        #de existir marcara error\n",
    "        print(\"La Base de Datos no fue creada debido a: \"+ e)\n",
    "    finally:                                             #simplemente cerrara la conexion una vez salga\n",
    "        con.close()\n"
   ]
  },
  {
   "cell_type": "code",
   "execution_count": 11,
   "metadata": {},
   "outputs": [],
   "source": [
    "#Funcion para crear la Base de datos\n",
    "def sql_connection2(x,y,z):\n",
    "    try:                                                 #intentara crear la base de datos\n",
    "        con=sql.connect(x)                               #la creara la conexion\n",
    "        cursor = con.cursor()\n",
    "        y.to_sql('Transacciones',con,index=False,if_exists = 'replace')#Transforma el archivo csv en Base de datos alternativa no valida\n",
    "        z.to_sql('Intervalos',con,if_exists = 'replace')#Transforma el archivo csv en Base de datos alternativa no valida\n",
    "        print(\"Base de Datos Creada\")             #Imprime si esta lista\n",
    "    except Exception as e:                                        #de existir marcara error\n",
    "        print(\"La Base de Datos no fue creada debido a: \"+ e)\n",
    "    finally:                                             #simplemente cerrara la conexion una vez salga\n",
    "        con.close()\n"
   ]
  },
  {
   "cell_type": "code",
   "execution_count": 20,
   "metadata": {},
   "outputs": [],
   "source": [
    "#Vista 1.\t¿Cuántas transacciones se realizan por cada hora? (mostrar las 24 horas)\n",
    "def Crearlasvista(x):\n",
    "    con=sql.connect(x)                               #la creara la conexion\n",
    "    cursor = con.cursor()\n",
    "    \n",
    "    #1.\t¿Cuántas transacciones se realizan por cada hora? (mostrar las 24 horas)\n",
    "    cursor.execute(\"\"\"CREATE VIEW IF NOT EXISTS Vista0 as\n",
    "                      SELECT strftime('%H',\"Fecha Transaccion\") as Horas,\n",
    "                      count(\"Codigo Transaccion\") as \"TransaccionesxHora\"\n",
    "                      FROM  Transacciones\n",
    "                      group by strftime('%H',\"Fecha Transaccion\")\n",
    "                      order by strftime('%H',\"Fecha Transaccion\") asc;\"\"\")  \n",
    "    con.commit()\n",
    "    #Vista 2.\t¿Cuántos pasajeros se movilizaron por cada hora?\n",
    "    cursor.execute(\"\"\"CREATE VIEW IF NOT EXISTS Vista1 as\n",
    "                      SELECT                strftime('%H',\"Fecha Transaccion\") as Hora,\n",
    "                      COUNT(\"Tarjeta\") as \"Pasajeros Movilizados\"\n",
    "                      FROM  Transacciones\n",
    "                      group by strftime('%H',\"Fecha Transaccion\")\n",
    "                      order by strftime('%H',\"Fecha Transaccion\") asc;\"\"\")  \n",
    "    con.commit()\n",
    "    \n",
    "    #Vista 3.\t¿Cuántos buses operaron por cada hora?\n",
    "    cursor.execute(\"\"\"CREATE VIEW IF NOT EXISTS Vista2 as\n",
    "                      SELECT Bus,\n",
    "\t\t\t\t\t  strftime('%H',\"Fecha Transaccion\") as Hora,\n",
    "                      COUNT(Bus) as \"Autobuses por Hora\" \n",
    "                      FROM  Transacciones \n",
    "                      where strftime('%H',\"Fecha Transaccion\") \n",
    "                      group by strftime('%H',\"Fecha Transaccion\"),Bus\n",
    "\t\t\t\t\t  order by Bus,strftime('%H',\"Fecha Transaccion\") ASC;\"\"\")  \n",
    "    con.commit()\n",
    "    \n",
    "    #Vista 4.\t¿Cuáles son los 30 buses que más pasajeros transportaron?\n",
    "    cursor.execute(\"\"\"CREATE VIEW IF NOT EXISTS Vista3 as\n",
    "                      SELECT                Bus as \"Numeracion de Bus\",\n",
    "                      COUNT(\"Tarjeta\") as \"Pasajeros Transportados\"\n",
    "                      FROM  Transacciones \n",
    "                      group by Bus \n",
    "                      ORDER BY COUNT(\"Tarjeta\") DESC \n",
    "                      LIMIT 30;\n",
    "                      \"\"\")  \n",
    "    con.commit()\n",
    "    \n",
    "    #Vista 5.\t¿Cuál fue el promedio de ingresos por hora?\n",
    "    cursor.execute(\"\"\"CREATE VIEW IF NOT EXISTS Vista4 as\n",
    "                      SELECT strftime('%H',\"Fecha Transaccion\") as Hora,\n",
    "                      round (avg(\"Tarifa-Monto\"),1) as \"Promedio Ingr/(#TRANS$C)\"\n",
    "                      FROM  Transacciones\n",
    "                      group by strftime('%H',\"Fecha Transaccion\")\n",
    "                      order by strftime('%H',\"Fecha Transaccion\") asc;\"\"\")  \n",
    "    con.commit()\n",
    "    \n",
    "    #Vista 6.\t¿Qué buses fueron los que más ingresos generaron?\n",
    "    cursor.execute(\"\"\"CREATE VIEW IF NOT EXISTS Vista5 as\n",
    "                      select Bus as \"Numero de Autobus\", sum(\"Tarifa-Monto\") as \"Venta Total Centecimos\" FROM Transacciones\n",
    "                      group by Bus\n",
    "                      order by sum(\"Tarifa-Monto\")desc; \"\"\")  \n",
    "    con.commit()\n",
    "    \n",
    "    #Vista 7.\t¿Cuáles fueron los ingresos durante el día en intervalos de quince minutos?\n",
    "    \n",
    "    cursor.execute(\"\"\"CREATE VIEW IF NOT EXISTS Vista6 as\n",
    "                      select strftime('%H:%M',\"Fecha Transaccion\") as Hora , sum(Tarjeta)as 'Ingresos'\n",
    "                      FROM Intervalos\n",
    "                      GROUP by strftime('%H:%M',\"Fecha Transaccion\")\n",
    "                      order by strftime('%H:%M',\"Fecha Transaccion\") asc;\"\"\")  \n",
    "    con.commit()\n",
    "    "
   ]
  },
  {
   "cell_type": "code",
   "execution_count": 21,
   "metadata": {},
   "outputs": [],
   "source": [
    "#Declaraciones\n",
    "pathcsv=\"./Data/transacciones.csv\"                             #filepath para la Conexion con el archivo Crudo\n",
    "pathdb=\"./DBSQL/transacciones.db\"                               #Ruta de la base de datos \n",
    "pathlimpio=\"./Problema_2/transacciones.csv\"\n",
    "path=[\"./Problema_2/Transxhora.csv\",\"./Problema_2/Pasajeroxhora.csv\",\"./Problema_2/Busesxhora.csv\",\"./Problema_2/TOP30Buses.csv\",\"./Problema_2/Promediodeingresos.csv\",\"./Problema_2/BusesIngresos.csv\",\"./Problema_2/Intervalos15Min.csv\"]\n",
    "Nombredetable=\"Transacciones\""
   ]
  },
  {
   "cell_type": "code",
   "execution_count": 22,
   "metadata": {
    "scrolled": true
   },
   "outputs": [],
   "source": [
    "#Limpieza de Datos\n",
    "Dataframe = pd.read_csv(pathcsv,encoding = \"ISO-8859-1\")\n",
    "Dataframe.dropna()\n",
    "#Corrige Fechas\n",
    "Dataframe[\"Fecha Transaccion\"]= pd.to_datetime(Dataframe[\"Fecha Transaccion\"])\n",
    "Dataframe[\"Fecha RegistroCle\"]= pd.to_datetime(Dataframe[\"Fecha RegistroCle\"])\n",
    "Dataframe[\"Fecha Contabilizacion\"]= pd.to_datetime(Dataframe[\"Fecha Contabilizacion\"])"
   ]
  },
  {
   "cell_type": "code",
   "execution_count": 23,
   "metadata": {},
   "outputs": [],
   "source": [
    "#generar dataframe de Vista 7 intervalo por cada 15 minutos\n",
    "time=Dataframe.groupby(pd.Grouper(freq='15T',key='Fecha Transaccion'))['Tarjeta'].count().ffill()"
   ]
  },
  {
   "cell_type": "code",
   "execution_count": 24,
   "metadata": {},
   "outputs": [
    {
     "name": "stdout",
     "output_type": "stream",
     "text": [
      "Base de Datos Creada\n"
     ]
    }
   ],
   "source": [
    "#Creacion de Base de Datos y Tablas\n",
    "sql_connection2(pathdb,Dataframe,time)"
   ]
  },
  {
   "cell_type": "code",
   "execution_count": 25,
   "metadata": {},
   "outputs": [],
   "source": [
    "#Creacion de Vista Enunciado 1\n",
    "Crearlasvista(pathdb)"
   ]
  },
  {
   "cell_type": "code",
   "execution_count": 26,
   "metadata": {},
   "outputs": [],
   "source": [
    "#Creacion de CSV\n",
    "con=sql.connect(pathdb)  \n",
    "#Exportacion de Datos en Limpio\n",
    "Dataframe = pd.read_sql_query(\"SELECT * FROM \"+Nombredetable+\";\",con)  #Transforma La vista en un Dataframe\n",
    "Dataframe.to_csv(pathlimpio,index=False)    #Coloca el Archivo CSV en la ruta selecionada sin la indexacion\n",
    "\n",
    "for index, path in enumerate(path):\n",
    "    df = pd.read_sql_query(\"SELECT * FROM Vista\"+str(index)+\";\",con) \n",
    "    df.to_csv(path,index=False)\n"
   ]
  },
  {
   "cell_type": "code",
   "execution_count": null,
   "metadata": {},
   "outputs": [],
   "source": []
  }
 ],
 "metadata": {
  "kernelspec": {
   "display_name": "Python 3",
   "language": "python",
   "name": "python3"
  },
  "language_info": {
   "codemirror_mode": {
    "name": "ipython",
    "version": 3
   },
   "file_extension": ".py",
   "mimetype": "text/x-python",
   "name": "python",
   "nbconvert_exporter": "python",
   "pygments_lexer": "ipython3",
   "version": "3.8.3"
  }
 },
 "nbformat": 4,
 "nbformat_minor": 4
}
