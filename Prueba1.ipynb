{
 "cells": [
  {
   "cell_type": "code",
   "execution_count": 1,
   "metadata": {},
   "outputs": [],
   "source": [
    "from os import path\n",
    "import sqlite3 as sql\n",
    "import pandas as pd\n"
   ]
  },
  {
   "cell_type": "code",
   "execution_count": 2,
   "metadata": {},
   "outputs": [],
   "source": [
    "#Funcion para crear la Base de datos\n",
    "def sql_connection(x):\n",
    "    try:                                                 #intentara crear la base de datos\n",
    "        con=sql.connect(x)     #la creara la conexion\n",
    "        Rutas.to_sql('Rutas',con,index=False,if_exists = 'replace')#Transforma el archivo csv en Base de datos\n",
    "        print(\"Base de Datos estan Creadas\")             #Imprime si esta lista\n",
    "    except Exception as e:                                        #de existir marcara error\n",
    "        print(\"La Base de Datos no fue creada debido a: \"+e)\n",
    "    finally:                                             #simplemente cerrara una vez salga\n",
    "        con.close()\n"
   ]
  },
  {
   "cell_type": "code",
   "execution_count": 3,
   "metadata": {},
   "outputs": [],
   "source": [
    "#Creacion de la vista\n",
    "def Vista1(x):\n",
    "    con=sql.connect(x)  \n",
    "    cursor = con.cursor()\n",
    "    cursor.execute(\"\"\"CREATE VIEW IF NOT EXISTS TramosParadas \n",
    "                          AS\n",
    "                            SELECT\n",
    "                                r.RT_ID,\n",
    "                                Min(r.SN) as SN_B,\n",
    "                                r.STOP_CD as STOP_CD_B,\n",
    "                                MAX(t1.SN) as SN_E,\n",
    "                                t1.STOP_CD as STOP_CD_E,\n",
    "                                t1.DIST,\n",
    "                                t1.LMT_SPD\n",
    "                                FROM Rutas r \n",
    "                                LEFT JOIN Rutas t1 ON r.RT_ID = t1.RT_ID\n",
    "                         GROUP BY r.RT_ID;\n",
    "                         \"\"\")\n",
    "    con.commit()\n",
    "    print(\"Vista 1 Creada y Guardada en la base de datos\")"
   ]
  },
  {
   "cell_type": "code",
   "execution_count": 4,
   "metadata": {},
   "outputs": [
    {
     "name": "stdout",
     "output_type": "stream",
     "text": [
      "Base de Datos estan Creadas\n",
      "Vista 1 Creada y Guardada en la base de datos\n"
     ]
    }
   ],
   "source": [
    "\n",
    "#1-Lectura de los CSV Raw o crudos\n",
    "filerutas=\"./Data/pattern_detail.csv\"                             #filepath para la Conexion con el archivo Crudo\n",
    "pathDB=\"./DBSQL/pattern_detail.db\"\n",
    "Rutas = pd.read_csv(filerutas,encoding = \"ISO-8859-1\")           #Lector de Archivo Crudo (Ruta,Codificacion) Cod= necesaria para transformar los datos\n",
    "Rutas.dropna()\n",
    "\n",
    "#2 - Creacion de Base de Datos \n",
    "sql_connection(pathDB)                                                #Creacion de Base de datos, valida si existe o no existe\n",
    "Vista1(pathDB)                                                       #Creacion de vista"
   ]
  },
  {
   "cell_type": "code",
   "execution_count": 5,
   "metadata": {},
   "outputs": [],
   "source": [
    "\"\"\" Transformacion de SQLITE a DataFrame a CSV  \"\"\"\n",
    "\n",
    "#6 Transfromacion de Archivos CSV\n",
    "con=sql.connect(pathDB)  \n",
    "RutasTramos = pd.read_sql_query(\"SELECT * FROM TramosParadas;\",con) #Transforma La vista en un Dataframe\n",
    "RutasTramos.to_csv(\"./Problema_1/Paradas.csv\",index=False)    #Coloca el Archivo CSV en la ruta selecionada sin la indexacion"
   ]
  },
  {
   "cell_type": "code",
   "execution_count": null,
   "metadata": {},
   "outputs": [],
   "source": []
  }
 ],
 "metadata": {
  "kernelspec": {
   "display_name": "Python 3",
   "language": "python",
   "name": "python3"
  },
  "language_info": {
   "codemirror_mode": {
    "name": "ipython",
    "version": 3
   },
   "file_extension": ".py",
   "mimetype": "text/x-python",
   "name": "python",
   "nbconvert_exporter": "python",
   "pygments_lexer": "ipython3",
   "version": "3.8.3"
  }
 },
 "nbformat": 4,
 "nbformat_minor": 4
}
